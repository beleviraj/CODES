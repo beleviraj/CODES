{
 "cells": [
  {
   "cell_type": "code",
   "execution_count": 6,
   "metadata": {},
   "outputs": [
    {
     "name": "stdout",
     "output_type": "stream",
     "text": [
      "   CustomerID  Gender  Age  Annual Income ($)  Spending Score (1-100)  \\\n",
      "0           1    Male   19              15000                      39   \n",
      "1           2    Male   21              35000                      81   \n",
      "2           3  Female   20              86000                       6   \n",
      "3           4  Female   23              59000                      77   \n",
      "4           5  Female   31              38000                      40   \n",
      "\n",
      "      Profession  Work Experience  Family Size  \n",
      "0     Healthcare                1            4  \n",
      "1       Engineer                3            3  \n",
      "2       Engineer                1            1  \n",
      "3         Lawyer                0            2  \n",
      "4  Entertainment                2            6  \n"
     ]
    }
   ],
   "source": [
    "import pandas as pd\n",
    "df=pd.read_csv('C:/Users/ASUS/OneDrive/Desktop/VIRAJ/python/Customer.csv')\n",
    "print(df.head())"
   ]
  },
  {
   "cell_type": "code",
   "execution_count": null,
   "metadata": {},
   "outputs": [],
   "source": []
  },
  {
   "cell_type": "code",
   "execution_count": null,
   "metadata": {},
   "outputs": [],
   "source": []
  }
 ],
 "metadata": {
  "kernelspec": {
   "display_name": "Python 3",
   "language": "python",
   "name": "python3"
  },
  "language_info": {
   "codemirror_mode": {
    "name": "ipython",
    "version": 3
   },
   "file_extension": ".py",
   "mimetype": "text/x-python",
   "name": "python",
   "nbconvert_exporter": "python",
   "pygments_lexer": "ipython3",
   "version": "3.12.1"
  }
 },
 "nbformat": 4,
 "nbformat_minor": 2
}
